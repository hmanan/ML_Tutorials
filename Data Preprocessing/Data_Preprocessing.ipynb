{
  "nbformat": 4,
  "nbformat_minor": 0,
  "metadata": {
    "colab": {
      "name": "Data_Preprocessing.ipynb",
      "provenance": [],
      "collapsed_sections": []
    },
    "kernelspec": {
      "name": "python3",
      "display_name": "Python 3"
    }
  },
  "cells": [
    {
      "cell_type": "code",
      "metadata": {
        "id": "9dHZA2-NTiaJ",
        "colab_type": "code",
        "colab": {}
      },
      "source": [
        "# Importing the libraries\n",
        " \n",
        "import numpy as np\n",
        "import pandas as pd\n",
        "\n",
        "\n",
        "# Importing the dataset\n",
        "\n",
        "dataset = pd.read_csv('data.csv')\n",
        "\n",
        "# Independent variable (features)\n",
        "X = dataset.iloc[:, :-1].values\n",
        "\n",
        "\n",
        "# Dependent variable\n",
        "y = dataset.iloc[:, -1].values\n",
        "\n",
        "# print(X)\n",
        "# print(y)\n",
        "\n",
        "# Taking care of missing data\n",
        "\n",
        "from sklearn.impute import SimpleImputer\n",
        "\n",
        "imputer = SimpleImputer(missing_values=np.nan, strategy='mean')\n",
        "imputer.fit(X[:, 1:3])\n",
        "X[:, 1:3] = imputer.transform(X[:, 1:3])\n",
        "\n",
        "# print(X)\n",
        "\n",
        "# Encoding the independent variable\n",
        "\n",
        "from sklearn.compose import ColumnTransformer\n",
        "from sklearn.preprocessing import OneHotEncoder\n",
        "\n",
        "ct = ColumnTransformer(transformers=[('encoder', OneHotEncoder(), [0])], remainder='passthrough')\n",
        "X = np.array(ct.fit_transform(X))\n",
        "\n",
        "# print(X)\n",
        "\n",
        "# Encoding the dependent variable\n",
        "\n",
        "from sklearn.preprocessing import LabelEncoder\n",
        "\n",
        "le = LabelEncoder()\n",
        "y = le.fit_transform(y)\n",
        "# print(y)\n",
        "\n",
        "# Splitting Data\n",
        "\n",
        "from sklearn.model_selection import train_test_split\n",
        "\n",
        "X_train, X_test, y_train, y_test = train_test_split(X, y, test_size = 0.2, random_state = 1)  \n",
        "\n",
        "# print(X_train)\n",
        "# print(X_test)\n",
        "# print(y_train)\n",
        "# print(y_test)\n",
        "\n"
      ],
      "execution_count": null,
      "outputs": []
    }
  ]
}